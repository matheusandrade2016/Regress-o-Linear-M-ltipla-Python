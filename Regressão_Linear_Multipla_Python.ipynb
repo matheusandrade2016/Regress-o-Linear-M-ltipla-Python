{
  "nbformat": 4,
  "nbformat_minor": 0,
  "metadata": {
    "colab": {
      "provenance": []
    },
    "kernelspec": {
      "name": "python3",
      "display_name": "Python 3"
    },
    "language_info": {
      "name": "python"
    }
  },
  "cells": [
    {
      "cell_type": "code",
      "execution_count": 1,
      "metadata": {
        "id": "IFzmwUbMhmfW"
      },
      "outputs": [],
      "source": [
        "# Carregando minhas biblotecas\n",
        "import pandas as pd\n",
        "import numpy as np"
      ]
    },
    {
      "cell_type": "code",
      "source": [
        "# Importando nossa Biblioteca Scikit Learn com nosso pacote OneHotEnconder\n",
        "\n",
        "# para transformar nossas variaveis\n",
        "from sklearn.preprocessing import OneHotEncoder\n",
        "\n",
        "# Aplica transformadores a colunas de um array ou DataFrame do pandas.\n",
        "from sklearn.compose import ColumnTransformer\n",
        "\n",
        "# Importando nossa biblioteca para dividi nossas classes entre treino e teste\n",
        "from sklearn.model_selection import train_test_split\n",
        "\n",
        "# Importando nosa biblioteca para o Treinamento do Algortmo\n",
        "from sklearn.linear_model import LinearRegression"
      ],
      "metadata": {
        "id": "abum6yS0ho2X"
      },
      "execution_count": 2,
      "outputs": []
    },
    {
      "cell_type": "code",
      "source": [
        "# Carregando meu Dataset\n",
        "dataset = pd.read_csv(\"startups.csv\")"
      ],
      "metadata": {
        "id": "sTMsnjO4ho43"
      },
      "execution_count": 3,
      "outputs": []
    },
    {
      "cell_type": "code",
      "source": [
        "# Vizualizando meus dados\n",
        "dataset.head()"
      ],
      "metadata": {
        "colab": {
          "base_uri": "https://localhost:8080/",
          "height": 206
        },
        "id": "0pDjil-zho7X",
        "outputId": "4368825c-0df4-41a4-af5a-7b000dfed8c8"
      },
      "execution_count": 4,
      "outputs": [
        {
          "output_type": "execute_result",
          "data": {
            "text/plain": [
              "   Administração   Pesquisa  Propaganda          Estado      Lucro\n",
              "0      136897.80  165349.20   471784.10          Paraná  192261.83\n",
              "1      151377.59  162597.70   443898.53       São Paulo  191792.06\n",
              "2      101145.55  153441.51   407934.54  Rio de Janeiro  191050.39\n",
              "3      118671.85  144372.41   383199.62          Paraná  182901.99\n",
              "4       91391.77  142107.34   366168.42  Rio de Janeiro  166187.94"
            ],
            "text/html": [
              "\n",
              "  <div id=\"df-b3fce2e3-3bbd-4a95-af9c-75bcad4b0967\" class=\"colab-df-container\">\n",
              "    <div>\n",
              "<style scoped>\n",
              "    .dataframe tbody tr th:only-of-type {\n",
              "        vertical-align: middle;\n",
              "    }\n",
              "\n",
              "    .dataframe tbody tr th {\n",
              "        vertical-align: top;\n",
              "    }\n",
              "\n",
              "    .dataframe thead th {\n",
              "        text-align: right;\n",
              "    }\n",
              "</style>\n",
              "<table border=\"1\" class=\"dataframe\">\n",
              "  <thead>\n",
              "    <tr style=\"text-align: right;\">\n",
              "      <th></th>\n",
              "      <th>Administração</th>\n",
              "      <th>Pesquisa</th>\n",
              "      <th>Propaganda</th>\n",
              "      <th>Estado</th>\n",
              "      <th>Lucro</th>\n",
              "    </tr>\n",
              "  </thead>\n",
              "  <tbody>\n",
              "    <tr>\n",
              "      <th>0</th>\n",
              "      <td>136897.80</td>\n",
              "      <td>165349.20</td>\n",
              "      <td>471784.10</td>\n",
              "      <td>Paraná</td>\n",
              "      <td>192261.83</td>\n",
              "    </tr>\n",
              "    <tr>\n",
              "      <th>1</th>\n",
              "      <td>151377.59</td>\n",
              "      <td>162597.70</td>\n",
              "      <td>443898.53</td>\n",
              "      <td>São Paulo</td>\n",
              "      <td>191792.06</td>\n",
              "    </tr>\n",
              "    <tr>\n",
              "      <th>2</th>\n",
              "      <td>101145.55</td>\n",
              "      <td>153441.51</td>\n",
              "      <td>407934.54</td>\n",
              "      <td>Rio de Janeiro</td>\n",
              "      <td>191050.39</td>\n",
              "    </tr>\n",
              "    <tr>\n",
              "      <th>3</th>\n",
              "      <td>118671.85</td>\n",
              "      <td>144372.41</td>\n",
              "      <td>383199.62</td>\n",
              "      <td>Paraná</td>\n",
              "      <td>182901.99</td>\n",
              "    </tr>\n",
              "    <tr>\n",
              "      <th>4</th>\n",
              "      <td>91391.77</td>\n",
              "      <td>142107.34</td>\n",
              "      <td>366168.42</td>\n",
              "      <td>Rio de Janeiro</td>\n",
              "      <td>166187.94</td>\n",
              "    </tr>\n",
              "  </tbody>\n",
              "</table>\n",
              "</div>\n",
              "    <div class=\"colab-df-buttons\">\n",
              "\n",
              "  <div class=\"colab-df-container\">\n",
              "    <button class=\"colab-df-convert\" onclick=\"convertToInteractive('df-b3fce2e3-3bbd-4a95-af9c-75bcad4b0967')\"\n",
              "            title=\"Convert this dataframe to an interactive table.\"\n",
              "            style=\"display:none;\">\n",
              "\n",
              "  <svg xmlns=\"http://www.w3.org/2000/svg\" height=\"24px\" viewBox=\"0 -960 960 960\">\n",
              "    <path d=\"M120-120v-720h720v720H120Zm60-500h600v-160H180v160Zm220 220h160v-160H400v160Zm0 220h160v-160H400v160ZM180-400h160v-160H180v160Zm440 0h160v-160H620v160ZM180-180h160v-160H180v160Zm440 0h160v-160H620v160Z\"/>\n",
              "  </svg>\n",
              "    </button>\n",
              "\n",
              "  <style>\n",
              "    .colab-df-container {\n",
              "      display:flex;\n",
              "      gap: 12px;\n",
              "    }\n",
              "\n",
              "    .colab-df-convert {\n",
              "      background-color: #E8F0FE;\n",
              "      border: none;\n",
              "      border-radius: 50%;\n",
              "      cursor: pointer;\n",
              "      display: none;\n",
              "      fill: #1967D2;\n",
              "      height: 32px;\n",
              "      padding: 0 0 0 0;\n",
              "      width: 32px;\n",
              "    }\n",
              "\n",
              "    .colab-df-convert:hover {\n",
              "      background-color: #E2EBFA;\n",
              "      box-shadow: 0px 1px 2px rgba(60, 64, 67, 0.3), 0px 1px 3px 1px rgba(60, 64, 67, 0.15);\n",
              "      fill: #174EA6;\n",
              "    }\n",
              "\n",
              "    .colab-df-buttons div {\n",
              "      margin-bottom: 4px;\n",
              "    }\n",
              "\n",
              "    [theme=dark] .colab-df-convert {\n",
              "      background-color: #3B4455;\n",
              "      fill: #D2E3FC;\n",
              "    }\n",
              "\n",
              "    [theme=dark] .colab-df-convert:hover {\n",
              "      background-color: #434B5C;\n",
              "      box-shadow: 0px 1px 3px 1px rgba(0, 0, 0, 0.15);\n",
              "      filter: drop-shadow(0px 1px 2px rgba(0, 0, 0, 0.3));\n",
              "      fill: #FFFFFF;\n",
              "    }\n",
              "  </style>\n",
              "\n",
              "    <script>\n",
              "      const buttonEl =\n",
              "        document.querySelector('#df-b3fce2e3-3bbd-4a95-af9c-75bcad4b0967 button.colab-df-convert');\n",
              "      buttonEl.style.display =\n",
              "        google.colab.kernel.accessAllowed ? 'block' : 'none';\n",
              "\n",
              "      async function convertToInteractive(key) {\n",
              "        const element = document.querySelector('#df-b3fce2e3-3bbd-4a95-af9c-75bcad4b0967');\n",
              "        const dataTable =\n",
              "          await google.colab.kernel.invokeFunction('convertToInteractive',\n",
              "                                                    [key], {});\n",
              "        if (!dataTable) return;\n",
              "\n",
              "        const docLinkHtml = 'Like what you see? Visit the ' +\n",
              "          '<a target=\"_blank\" href=https://colab.research.google.com/notebooks/data_table.ipynb>data table notebook</a>'\n",
              "          + ' to learn more about interactive tables.';\n",
              "        element.innerHTML = '';\n",
              "        dataTable['output_type'] = 'display_data';\n",
              "        await google.colab.output.renderOutput(dataTable, element);\n",
              "        const docLink = document.createElement('div');\n",
              "        docLink.innerHTML = docLinkHtml;\n",
              "        element.appendChild(docLink);\n",
              "      }\n",
              "    </script>\n",
              "  </div>\n",
              "\n",
              "\n",
              "<div id=\"df-7e5d800d-b398-489f-b81d-20a19c02d4ba\">\n",
              "  <button class=\"colab-df-quickchart\" onclick=\"quickchart('df-7e5d800d-b398-489f-b81d-20a19c02d4ba')\"\n",
              "            title=\"Suggest charts\"\n",
              "            style=\"display:none;\">\n",
              "\n",
              "<svg xmlns=\"http://www.w3.org/2000/svg\" height=\"24px\"viewBox=\"0 0 24 24\"\n",
              "     width=\"24px\">\n",
              "    <g>\n",
              "        <path d=\"M19 3H5c-1.1 0-2 .9-2 2v14c0 1.1.9 2 2 2h14c1.1 0 2-.9 2-2V5c0-1.1-.9-2-2-2zM9 17H7v-7h2v7zm4 0h-2V7h2v10zm4 0h-2v-4h2v4z\"/>\n",
              "    </g>\n",
              "</svg>\n",
              "  </button>\n",
              "\n",
              "<style>\n",
              "  .colab-df-quickchart {\n",
              "      --bg-color: #E8F0FE;\n",
              "      --fill-color: #1967D2;\n",
              "      --hover-bg-color: #E2EBFA;\n",
              "      --hover-fill-color: #174EA6;\n",
              "      --disabled-fill-color: #AAA;\n",
              "      --disabled-bg-color: #DDD;\n",
              "  }\n",
              "\n",
              "  [theme=dark] .colab-df-quickchart {\n",
              "      --bg-color: #3B4455;\n",
              "      --fill-color: #D2E3FC;\n",
              "      --hover-bg-color: #434B5C;\n",
              "      --hover-fill-color: #FFFFFF;\n",
              "      --disabled-bg-color: #3B4455;\n",
              "      --disabled-fill-color: #666;\n",
              "  }\n",
              "\n",
              "  .colab-df-quickchart {\n",
              "    background-color: var(--bg-color);\n",
              "    border: none;\n",
              "    border-radius: 50%;\n",
              "    cursor: pointer;\n",
              "    display: none;\n",
              "    fill: var(--fill-color);\n",
              "    height: 32px;\n",
              "    padding: 0;\n",
              "    width: 32px;\n",
              "  }\n",
              "\n",
              "  .colab-df-quickchart:hover {\n",
              "    background-color: var(--hover-bg-color);\n",
              "    box-shadow: 0 1px 2px rgba(60, 64, 67, 0.3), 0 1px 3px 1px rgba(60, 64, 67, 0.15);\n",
              "    fill: var(--button-hover-fill-color);\n",
              "  }\n",
              "\n",
              "  .colab-df-quickchart-complete:disabled,\n",
              "  .colab-df-quickchart-complete:disabled:hover {\n",
              "    background-color: var(--disabled-bg-color);\n",
              "    fill: var(--disabled-fill-color);\n",
              "    box-shadow: none;\n",
              "  }\n",
              "\n",
              "  .colab-df-spinner {\n",
              "    border: 2px solid var(--fill-color);\n",
              "    border-color: transparent;\n",
              "    border-bottom-color: var(--fill-color);\n",
              "    animation:\n",
              "      spin 1s steps(1) infinite;\n",
              "  }\n",
              "\n",
              "  @keyframes spin {\n",
              "    0% {\n",
              "      border-color: transparent;\n",
              "      border-bottom-color: var(--fill-color);\n",
              "      border-left-color: var(--fill-color);\n",
              "    }\n",
              "    20% {\n",
              "      border-color: transparent;\n",
              "      border-left-color: var(--fill-color);\n",
              "      border-top-color: var(--fill-color);\n",
              "    }\n",
              "    30% {\n",
              "      border-color: transparent;\n",
              "      border-left-color: var(--fill-color);\n",
              "      border-top-color: var(--fill-color);\n",
              "      border-right-color: var(--fill-color);\n",
              "    }\n",
              "    40% {\n",
              "      border-color: transparent;\n",
              "      border-right-color: var(--fill-color);\n",
              "      border-top-color: var(--fill-color);\n",
              "    }\n",
              "    60% {\n",
              "      border-color: transparent;\n",
              "      border-right-color: var(--fill-color);\n",
              "    }\n",
              "    80% {\n",
              "      border-color: transparent;\n",
              "      border-right-color: var(--fill-color);\n",
              "      border-bottom-color: var(--fill-color);\n",
              "    }\n",
              "    90% {\n",
              "      border-color: transparent;\n",
              "      border-bottom-color: var(--fill-color);\n",
              "    }\n",
              "  }\n",
              "</style>\n",
              "\n",
              "  <script>\n",
              "    async function quickchart(key) {\n",
              "      const quickchartButtonEl =\n",
              "        document.querySelector('#' + key + ' button');\n",
              "      quickchartButtonEl.disabled = true;  // To prevent multiple clicks.\n",
              "      quickchartButtonEl.classList.add('colab-df-spinner');\n",
              "      try {\n",
              "        const charts = await google.colab.kernel.invokeFunction(\n",
              "            'suggestCharts', [key], {});\n",
              "      } catch (error) {\n",
              "        console.error('Error during call to suggestCharts:', error);\n",
              "      }\n",
              "      quickchartButtonEl.classList.remove('colab-df-spinner');\n",
              "      quickchartButtonEl.classList.add('colab-df-quickchart-complete');\n",
              "    }\n",
              "    (() => {\n",
              "      let quickchartButtonEl =\n",
              "        document.querySelector('#df-7e5d800d-b398-489f-b81d-20a19c02d4ba button');\n",
              "      quickchartButtonEl.style.display =\n",
              "        google.colab.kernel.accessAllowed ? 'block' : 'none';\n",
              "    })();\n",
              "  </script>\n",
              "</div>\n",
              "\n",
              "    </div>\n",
              "  </div>\n"
            ],
            "application/vnd.google.colaboratory.intrinsic+json": {
              "type": "dataframe",
              "variable_name": "dataset",
              "summary": "{\n  \"name\": \"dataset\",\n  \"rows\": 50,\n  \"fields\": [\n    {\n      \"column\": \"Administra\\u00e7\\u00e3o\",\n      \"properties\": {\n        \"dtype\": \"number\",\n        \"std\": 28017.802755488683,\n        \"min\": 51283.14,\n        \"max\": 182645.56,\n        \"num_unique_values\": 50,\n        \"samples\": [\n          135495.07,\n          82982.09,\n          115641.28\n        ],\n        \"semantic_type\": \"\",\n        \"description\": \"\"\n      }\n    },\n    {\n      \"column\": \"Pesquisa\",\n      \"properties\": {\n        \"dtype\": \"number\",\n        \"std\": 45902.25648230753,\n        \"min\": 0.0,\n        \"max\": 165349.2,\n        \"num_unique_values\": 49,\n        \"samples\": [\n          91992.39,\n          1000.23,\n          0.0\n        ],\n        \"semantic_type\": \"\",\n        \"description\": \"\"\n      }\n    },\n    {\n      \"column\": \"Propaganda\",\n      \"properties\": {\n        \"dtype\": \"number\",\n        \"std\": 122290.31072584528,\n        \"min\": 0.0,\n        \"max\": 471784.1,\n        \"num_unique_values\": 48,\n        \"samples\": [\n          353183.81,\n          172795.67,\n          134050.07\n        ],\n        \"semantic_type\": \"\",\n        \"description\": \"\"\n      }\n    },\n    {\n      \"column\": \"Estado\",\n      \"properties\": {\n        \"dtype\": \"category\",\n        \"num_unique_values\": 3,\n        \"samples\": [\n          \"Paran\\u00e1\",\n          \"S\\u00e3o Paulo\",\n          \"Rio de Janeiro\"\n        ],\n        \"semantic_type\": \"\",\n        \"description\": \"\"\n      }\n    },\n    {\n      \"column\": \"Lucro\",\n      \"properties\": {\n        \"dtype\": \"number\",\n        \"std\": 40306.18033765055,\n        \"min\": 14681.4,\n        \"max\": 192261.83,\n        \"num_unique_values\": 50,\n        \"samples\": [\n          134307.35,\n          81005.76,\n          99937.59\n        ],\n        \"semantic_type\": \"\",\n        \"description\": \"\"\n      }\n    }\n  ]\n}"
            }
          },
          "metadata": {},
          "execution_count": 4
        }
      ]
    },
    {
      "cell_type": "code",
      "source": [
        "# Indentificacao de nossas variaveis Idependetes e Dependentes\n",
        "\n",
        "# Outra maneira\n",
        "# X = dataset.iloc[:, :-1]\n",
        "\n",
        "# Variavel Independente\n",
        "X = dataset.iloc[:, 0:4].values\n",
        "\n",
        "# Variavel Depentente\n",
        "y = dataset.iloc[:, 4].values"
      ],
      "metadata": {
        "id": "GqTWUKlaho9v"
      },
      "execution_count": 5,
      "outputs": []
    },
    {
      "cell_type": "code",
      "source": [
        "# Vizualizando minha variavel X\n",
        "X"
      ],
      "metadata": {
        "colab": {
          "base_uri": "https://localhost:8080/"
        },
        "id": "kshisEFBhpAJ",
        "outputId": "d3deb996-d03c-4e11-f2a1-1711b800c4a1"
      },
      "execution_count": 9,
      "outputs": [
        {
          "output_type": "execute_result",
          "data": {
            "text/plain": [
              "array([[136897.8, 165349.2, 471784.1, 'Paraná'],\n",
              "       [151377.59, 162597.7, 443898.53, 'São Paulo'],\n",
              "       [101145.55, 153441.51, 407934.54, 'Rio de Janeiro'],\n",
              "       [118671.85, 144372.41, 383199.62, 'Paraná'],\n",
              "       [91391.77, 142107.34, 366168.42, 'Rio de Janeiro'],\n",
              "       [99814.71, 131876.9, 362861.36, 'Paraná'],\n",
              "       [147198.87, 134615.46, 127716.82, 'São Paulo'],\n",
              "       [145530.06, 130298.13, 323876.68, 'Rio de Janeiro'],\n",
              "       [148718.95, 120542.52, 311613.29, 'Paraná'],\n",
              "       [108679.17, 123334.88, 304981.62, 'São Paulo'],\n",
              "       [110594.11, 101913.08, 229160.95, 'Rio de Janeiro'],\n",
              "       [91790.61, 100671.96, 249744.55, 'São Paulo'],\n",
              "       [127320.38, 93863.75, 249839.44, 'Rio de Janeiro'],\n",
              "       [135495.07, 91992.39, 252664.93, 'São Paulo'],\n",
              "       [156547.42, 119943.24, 256512.92, 'Rio de Janeiro'],\n",
              "       [122616.84, 114523.61, 261776.23, 'Paraná'],\n",
              "       [121597.55, 78013.11, 264346.06, 'São Paulo'],\n",
              "       [145077.58, 94657.16, 282574.31, 'Paraná'],\n",
              "       [114175.79, 91749.16, 294919.57, 'Rio de Janeiro'],\n",
              "       [153514.11, 86419.7, 0.0, 'Paraná'],\n",
              "       [113867.3, 76253.86, 298664.47, 'São Paulo'],\n",
              "       [153773.43, 78389.47, 299737.29, 'Paraná'],\n",
              "       [122782.75, 73994.56, 303319.26, 'Rio de Janeiro'],\n",
              "       [105751.03, 67532.53, 304768.73, 'Rio de Janeiro'],\n",
              "       [99281.34, 77044.01, 140574.81, 'Paraná'],\n",
              "       [139553.16, 64664.71, 137962.62, 'São Paulo'],\n",
              "       [144135.98, 75328.87, 134050.07, 'Rio de Janeiro'],\n",
              "       [127864.55, 72107.6, 353183.81, 'Paraná'],\n",
              "       [182645.56, 66051.52, 118148.2, 'Rio de Janeiro'],\n",
              "       [153032.06, 65605.48, 107138.38, 'Paraná'],\n",
              "       [115641.28, 61994.48, 91131.24, 'Rio de Janeiro'],\n",
              "       [152701.92, 61136.38, 88218.23, 'Paraná'],\n",
              "       [129219.61, 63408.86, 46085.25, 'São Paulo'],\n",
              "       [103057.49, 55493.95, 214634.81, 'Rio de Janeiro'],\n",
              "       [157693.92, 46426.07, 210797.67, 'São Paulo'],\n",
              "       [85047.44, 46014.02, 205517.64, 'Paraná'],\n",
              "       [127056.21, 28663.76, 201126.82, 'Rio de Janeiro'],\n",
              "       [51283.14, 44069.95, 197029.42, 'São Paulo'],\n",
              "       [65947.93, 20229.59, 185265.1, 'Paraná'],\n",
              "       [82982.09, 38558.51, 174999.3, 'São Paulo'],\n",
              "       [118546.05, 28754.33, 172795.67, 'São Paulo'],\n",
              "       [84710.77, 27892.92, 164470.71, 'Rio de Janeiro'],\n",
              "       [96189.63, 23640.93, 148001.11, 'São Paulo'],\n",
              "       [127382.3, 15505.73, 35534.17, 'Paraná'],\n",
              "       [154806.14, 22177.74, 28334.72, 'São Paulo'],\n",
              "       [124153.04, 1000.23, 1903.93, 'Paraná'],\n",
              "       [115816.21, 1315.46, 297114.46, 'Rio de Janeiro'],\n",
              "       [135426.92, 0.0, 0.0, 'São Paulo'],\n",
              "       [51743.15, 542.05, 0.0, 'Paraná'],\n",
              "       [116983.8, 0.0, 45173.06, 'São Paulo']], dtype=object)"
            ]
          },
          "metadata": {},
          "execution_count": 9
        }
      ]
    },
    {
      "cell_type": "code",
      "source": [
        "# Vizualizando minha variavel y\n",
        "y"
      ],
      "metadata": {
        "colab": {
          "base_uri": "https://localhost:8080/"
        },
        "id": "om16Ak5ohpEv",
        "outputId": "f2accd36-c3ec-4537-8bad-403f1bafcc1d"
      },
      "execution_count": 10,
      "outputs": [
        {
          "output_type": "execute_result",
          "data": {
            "text/plain": [
              "array([192261.83, 191792.06, 191050.39, 182901.99, 166187.94, 156991.12,\n",
              "       156122.51, 155752.6 , 152211.77, 149759.96, 146121.95, 144259.4 ,\n",
              "       141585.52, 134307.35, 132602.65, 129917.04, 126992.93, 125370.37,\n",
              "       124266.9 , 122776.86, 118474.03, 111313.02, 110352.25, 108733.99,\n",
              "       108552.04, 107404.34, 105733.54, 105008.31, 103282.38, 101004.64,\n",
              "        99937.59,  97483.56,  97427.84,  96778.92,  96712.8 ,  96479.51,\n",
              "        90708.19,  89949.14,  81229.06,  81005.76,  78239.91,  77798.83,\n",
              "        71498.49,  69758.98,  65200.33,  64926.08,  49490.75,  42559.73,\n",
              "        35673.41,  14681.4 ])"
            ]
          },
          "metadata": {},
          "execution_count": 10
        }
      ]
    },
    {
      "cell_type": "code",
      "source": [
        "# Iremos agora Codificar nossa Variavel Categorica Estado\n",
        "\n",
        "# Ao especificar remainder='passthrough',\n",
        "# todas as colunas restantes que não foram especificadas\n",
        "# em transformers, mas presentes nos dados passados ​​para fit serão\n",
        "# passadas automaticamente\n",
        "\n",
        "coluna_transformada = ColumnTransformer([('enconder', OneHotEncoder(),[3])],\n",
        "                                        remainder ='passthrough')"
      ],
      "metadata": {
        "id": "DSS9JTHLhpG4"
      },
      "execution_count": 11,
      "outputs": []
    },
    {
      "cell_type": "code",
      "source": [
        "# Transformando minha variaveis Independentes\n",
        "\n",
        "# Podmeos verificar que foi removido a coluna Estado criando as colunas\n",
        "# 0,1 e 2 cada um com uma variavel fecticia indicado a qual estado aquela\n",
        "# Standarp pertence\n",
        "\n",
        "X = np.array(coluna_transformada.fit_transform(X), dtype = np.float64)"
      ],
      "metadata": {
        "id": "FLlrgq_EhpJX"
      },
      "execution_count": 14,
      "outputs": []
    },
    {
      "cell_type": "code",
      "source": [
        "# Evitando nossa Armadilha Ficticia excluindo nossa coluna 0\n",
        "X = X[:,1:]"
      ],
      "metadata": {
        "id": "uaunnpLQhpL_"
      },
      "execution_count": 15,
      "outputs": []
    },
    {
      "cell_type": "code",
      "source": [
        "# Fazendo nossa Divisão da amostra com nossa verificação Cruzada\n",
        "# cross-validation, sendo nossa divisão de treinamento e teste 80% dos dados\n",
        "\n",
        "# 80% treino (0,8 * 50 = 40 amostras)\n",
        "# 20% teste  (0,2 * 50, = 10 amostras)\n",
        "\n",
        "X_train,X_test,y_train,y_test = train_test_split(X,y, test_size=0.2,random_state= 0)"
      ],
      "metadata": {
        "id": "Yh_NH7JXhpOg"
      },
      "execution_count": 16,
      "outputs": []
    },
    {
      "cell_type": "code",
      "source": [
        "# Treinamento de Nosso Algoritmo\n",
        "\n",
        "# Criando nosso regressor\n",
        "regressor = LinearRegression()"
      ],
      "metadata": {
        "id": "6JX3bW86hpQ3"
      },
      "execution_count": 17,
      "outputs": []
    },
    {
      "cell_type": "code",
      "source": [
        "# Fazendo nosso treinamento lembrando sempre com nossas variaveis de Treino\n",
        "regressor.fit(X_train,y_train)"
      ],
      "metadata": {
        "colab": {
          "base_uri": "https://localhost:8080/",
          "height": 75
        },
        "id": "izdvV4o4hpTY",
        "outputId": "ac824bbf-a0f3-4149-e49f-2a3f2c1458ae"
      },
      "execution_count": 18,
      "outputs": [
        {
          "output_type": "execute_result",
          "data": {
            "text/plain": [
              "LinearRegression()"
            ],
            "text/html": [
              "<style>#sk-container-id-1 {color: black;background-color: white;}#sk-container-id-1 pre{padding: 0;}#sk-container-id-1 div.sk-toggleable {background-color: white;}#sk-container-id-1 label.sk-toggleable__label {cursor: pointer;display: block;width: 100%;margin-bottom: 0;padding: 0.3em;box-sizing: border-box;text-align: center;}#sk-container-id-1 label.sk-toggleable__label-arrow:before {content: \"▸\";float: left;margin-right: 0.25em;color: #696969;}#sk-container-id-1 label.sk-toggleable__label-arrow:hover:before {color: black;}#sk-container-id-1 div.sk-estimator:hover label.sk-toggleable__label-arrow:before {color: black;}#sk-container-id-1 div.sk-toggleable__content {max-height: 0;max-width: 0;overflow: hidden;text-align: left;background-color: #f0f8ff;}#sk-container-id-1 div.sk-toggleable__content pre {margin: 0.2em;color: black;border-radius: 0.25em;background-color: #f0f8ff;}#sk-container-id-1 input.sk-toggleable__control:checked~div.sk-toggleable__content {max-height: 200px;max-width: 100%;overflow: auto;}#sk-container-id-1 input.sk-toggleable__control:checked~label.sk-toggleable__label-arrow:before {content: \"▾\";}#sk-container-id-1 div.sk-estimator input.sk-toggleable__control:checked~label.sk-toggleable__label {background-color: #d4ebff;}#sk-container-id-1 div.sk-label input.sk-toggleable__control:checked~label.sk-toggleable__label {background-color: #d4ebff;}#sk-container-id-1 input.sk-hidden--visually {border: 0;clip: rect(1px 1px 1px 1px);clip: rect(1px, 1px, 1px, 1px);height: 1px;margin: -1px;overflow: hidden;padding: 0;position: absolute;width: 1px;}#sk-container-id-1 div.sk-estimator {font-family: monospace;background-color: #f0f8ff;border: 1px dotted black;border-radius: 0.25em;box-sizing: border-box;margin-bottom: 0.5em;}#sk-container-id-1 div.sk-estimator:hover {background-color: #d4ebff;}#sk-container-id-1 div.sk-parallel-item::after {content: \"\";width: 100%;border-bottom: 1px solid gray;flex-grow: 1;}#sk-container-id-1 div.sk-label:hover label.sk-toggleable__label {background-color: #d4ebff;}#sk-container-id-1 div.sk-serial::before {content: \"\";position: absolute;border-left: 1px solid gray;box-sizing: border-box;top: 0;bottom: 0;left: 50%;z-index: 0;}#sk-container-id-1 div.sk-serial {display: flex;flex-direction: column;align-items: center;background-color: white;padding-right: 0.2em;padding-left: 0.2em;position: relative;}#sk-container-id-1 div.sk-item {position: relative;z-index: 1;}#sk-container-id-1 div.sk-parallel {display: flex;align-items: stretch;justify-content: center;background-color: white;position: relative;}#sk-container-id-1 div.sk-item::before, #sk-container-id-1 div.sk-parallel-item::before {content: \"\";position: absolute;border-left: 1px solid gray;box-sizing: border-box;top: 0;bottom: 0;left: 50%;z-index: -1;}#sk-container-id-1 div.sk-parallel-item {display: flex;flex-direction: column;z-index: 1;position: relative;background-color: white;}#sk-container-id-1 div.sk-parallel-item:first-child::after {align-self: flex-end;width: 50%;}#sk-container-id-1 div.sk-parallel-item:last-child::after {align-self: flex-start;width: 50%;}#sk-container-id-1 div.sk-parallel-item:only-child::after {width: 0;}#sk-container-id-1 div.sk-dashed-wrapped {border: 1px dashed gray;margin: 0 0.4em 0.5em 0.4em;box-sizing: border-box;padding-bottom: 0.4em;background-color: white;}#sk-container-id-1 div.sk-label label {font-family: monospace;font-weight: bold;display: inline-block;line-height: 1.2em;}#sk-container-id-1 div.sk-label-container {text-align: center;}#sk-container-id-1 div.sk-container {/* jupyter's `normalize.less` sets `[hidden] { display: none; }` but bootstrap.min.css set `[hidden] { display: none !important; }` so we also need the `!important` here to be able to override the default hidden behavior on the sphinx rendered scikit-learn.org. See: https://github.com/scikit-learn/scikit-learn/issues/21755 */display: inline-block !important;position: relative;}#sk-container-id-1 div.sk-text-repr-fallback {display: none;}</style><div id=\"sk-container-id-1\" class=\"sk-top-container\"><div class=\"sk-text-repr-fallback\"><pre>LinearRegression()</pre><b>In a Jupyter environment, please rerun this cell to show the HTML representation or trust the notebook. <br />On GitHub, the HTML representation is unable to render, please try loading this page with nbviewer.org.</b></div><div class=\"sk-container\" hidden><div class=\"sk-item\"><div class=\"sk-estimator sk-toggleable\"><input class=\"sk-toggleable__control sk-hidden--visually\" id=\"sk-estimator-id-1\" type=\"checkbox\" checked><label for=\"sk-estimator-id-1\" class=\"sk-toggleable__label sk-toggleable__label-arrow\">LinearRegression</label><div class=\"sk-toggleable__content\"><pre>LinearRegression()</pre></div></div></div></div></div>"
            ]
          },
          "metadata": {},
          "execution_count": 18
        }
      ]
    },
    {
      "cell_type": "code",
      "source": [
        "# Fazendo agora nossa Predição do Algoritmo\n",
        "\n",
        "# Lembrando que preveremos com os dados de treino e assim passando nossos\n",
        "# dados reais\n",
        "\n",
        "y_pred = regressor.predict(X_test)"
      ],
      "metadata": {
        "id": "Pkq1HG1RhpWD"
      },
      "execution_count": 19,
      "outputs": []
    },
    {
      "cell_type": "code",
      "source": [
        "# Criando um Loop for para comparar os valores\n",
        "for k in range(len(y_test)):\n",
        "    y_teste = y_test[k]\n",
        "    y_previsto = y_pred[k]\n",
        "    erro = abs((y_test[k] - y_pred[k])/ y_pred[k] *100)\n",
        "    print(f'y_teste: {y_teste:.2f} y_previsto: {y_previsto:.2f} erro: {erro:.2f}')"
      ],
      "metadata": {
        "colab": {
          "base_uri": "https://localhost:8080/"
        },
        "id": "0ALqCzg5hpYv",
        "outputId": "97b04712-6d51-4746-f8f0-f71c811f6f12"
      },
      "execution_count": 20,
      "outputs": [
        {
          "output_type": "stream",
          "name": "stdout",
          "text": [
            "y_teste: 103282.38 y_previsto: 103015.20 erro: 0.26\n",
            "y_teste: 144259.40 y_previsto: 132582.28 erro: 8.81\n",
            "y_teste: 146121.95 y_previsto: 132447.74 erro: 10.32\n",
            "y_teste: 77798.83 y_previsto: 71976.10 erro: 8.09\n",
            "y_teste: 191050.39 y_previsto: 178537.48 erro: 7.01\n",
            "y_teste: 105008.31 y_previsto: 116161.24 erro: 9.60\n",
            "y_teste: 81229.06 y_previsto: 67851.69 erro: 19.72\n",
            "y_teste: 97483.56 y_previsto: 98791.73 erro: 1.32\n",
            "y_teste: 110352.25 y_previsto: 113969.44 erro: 3.17\n",
            "y_teste: 166187.94 y_previsto: 167921.07 erro: 1.03\n"
          ]
        }
      ]
    },
    {
      "cell_type": "code",
      "source": [
        "#  Verificando nosso P-values (Quanto menor mais significativo)\n",
        "\n",
        "# Verificando a significancia estatistica das variaveis\n",
        "\n",
        "# Importando nossa Biblioteca\n",
        "import statsmodels.api as sm"
      ],
      "metadata": {
        "id": "BdjUDey2hpbP"
      },
      "execution_count": 21,
      "outputs": []
    },
    {
      "cell_type": "code",
      "source": [
        "# Criando minha variavel com minhas colunas\n",
        "X_opt = X[:,[0,1,2,3,4]]\n"
      ],
      "metadata": {
        "id": "caQMwjuThpd6"
      },
      "execution_count": 22,
      "outputs": []
    },
    {
      "cell_type": "code",
      "source": [
        "# Criando meu Regressor e fazendo meu treinamento\n",
        "regressor_OLS = sm.OLS(y, X_opt).fit()"
      ],
      "metadata": {
        "id": "H4ZZ1YovhpgI"
      },
      "execution_count": 23,
      "outputs": []
    },
    {
      "cell_type": "code",
      "source": [
        "# Verificando minhas estatistica\n",
        "regressor_OLS.summary()"
      ],
      "metadata": {
        "colab": {
          "base_uri": "https://localhost:8080/",
          "height": 568
        },
        "id": "meiThiq3hpn3",
        "outputId": "65ff4368-be61-4b2a-a4c4-eaeb8ccf60a9"
      },
      "execution_count": 24,
      "outputs": [
        {
          "output_type": "execute_result",
          "data": {
            "text/plain": [
              "<class 'statsmodels.iolib.summary.Summary'>\n",
              "\"\"\"\n",
              "                                 OLS Regression Results                                \n",
              "=======================================================================================\n",
              "Dep. Variable:                      y   R-squared (uncentered):                   0.988\n",
              "Model:                            OLS   Adj. R-squared (uncentered):              0.987\n",
              "Method:                 Least Squares   F-statistic:                              735.7\n",
              "Date:                Fri, 29 Mar 2024   Prob (F-statistic):                    6.07e-42\n",
              "Time:                        14:14:50   Log-Likelihood:                         -544.86\n",
              "No. Observations:                  50   AIC:                                      1100.\n",
              "Df Residuals:                      45   BIC:                                      1109.\n",
              "Df Model:                           5                                                  \n",
              "Covariance Type:            nonrobust                                                  \n",
              "==============================================================================\n",
              "                 coef    std err          t      P>|t|      [0.025      0.975]\n",
              "------------------------------------------------------------------------------\n",
              "x1          3814.3461   4819.854      0.791      0.433   -5893.338    1.35e+04\n",
              "x2          6019.9282   4596.090      1.310      0.197   -3237.072    1.53e+04\n",
              "x3             0.3021      0.037      8.174      0.000       0.228       0.377\n",
              "x4             0.7308      0.066     11.072      0.000       0.598       0.864\n",
              "x5             0.0776      0.023      3.397      0.001       0.032       0.124\n",
              "==============================================================================\n",
              "Omnibus:                        0.012   Durbin-Watson:                   1.533\n",
              "Prob(Omnibus):                  0.994   Jarque-Bera (JB):                0.071\n",
              "Skew:                          -0.015   Prob(JB):                        0.965\n",
              "Kurtosis:                       2.817   Cond. No.                     8.14e+05\n",
              "==============================================================================\n",
              "\n",
              "Notes:\n",
              "[1] R² is computed without centering (uncentered) since the model does not contain a constant.\n",
              "[2] Standard Errors assume that the covariance matrix of the errors is correctly specified.\n",
              "[3] The condition number is large, 8.14e+05. This might indicate that there are\n",
              "strong multicollinearity or other numerical problems.\n",
              "\"\"\""
            ],
            "text/html": [
              "<table class=\"simpletable\">\n",
              "<caption>OLS Regression Results</caption>\n",
              "<tr>\n",
              "  <th>Dep. Variable:</th>            <td>y</td>        <th>  R-squared (uncentered):</th>      <td>   0.988</td>\n",
              "</tr>\n",
              "<tr>\n",
              "  <th>Model:</th>                   <td>OLS</td>       <th>  Adj. R-squared (uncentered):</th> <td>   0.987</td>\n",
              "</tr>\n",
              "<tr>\n",
              "  <th>Method:</th>             <td>Least Squares</td>  <th>  F-statistic:       </th>          <td>   735.7</td>\n",
              "</tr>\n",
              "<tr>\n",
              "  <th>Date:</th>             <td>Fri, 29 Mar 2024</td> <th>  Prob (F-statistic):</th>          <td>6.07e-42</td>\n",
              "</tr>\n",
              "<tr>\n",
              "  <th>Time:</th>                 <td>14:14:50</td>     <th>  Log-Likelihood:    </th>          <td> -544.86</td>\n",
              "</tr>\n",
              "<tr>\n",
              "  <th>No. Observations:</th>      <td>    50</td>      <th>  AIC:               </th>          <td>   1100.</td>\n",
              "</tr>\n",
              "<tr>\n",
              "  <th>Df Residuals:</th>          <td>    45</td>      <th>  BIC:               </th>          <td>   1109.</td>\n",
              "</tr>\n",
              "<tr>\n",
              "  <th>Df Model:</th>              <td>     5</td>      <th>                     </th>              <td> </td>   \n",
              "</tr>\n",
              "<tr>\n",
              "  <th>Covariance Type:</th>      <td>nonrobust</td>    <th>                     </th>              <td> </td>   \n",
              "</tr>\n",
              "</table>\n",
              "<table class=\"simpletable\">\n",
              "<tr>\n",
              "   <td></td>     <th>coef</th>     <th>std err</th>      <th>t</th>      <th>P>|t|</th>  <th>[0.025</th>    <th>0.975]</th>  \n",
              "</tr>\n",
              "<tr>\n",
              "  <th>x1</th> <td> 3814.3461</td> <td> 4819.854</td> <td>    0.791</td> <td> 0.433</td> <td>-5893.338</td> <td> 1.35e+04</td>\n",
              "</tr>\n",
              "<tr>\n",
              "  <th>x2</th> <td> 6019.9282</td> <td> 4596.090</td> <td>    1.310</td> <td> 0.197</td> <td>-3237.072</td> <td> 1.53e+04</td>\n",
              "</tr>\n",
              "<tr>\n",
              "  <th>x3</th> <td>    0.3021</td> <td>    0.037</td> <td>    8.174</td> <td> 0.000</td> <td>    0.228</td> <td>    0.377</td>\n",
              "</tr>\n",
              "<tr>\n",
              "  <th>x4</th> <td>    0.7308</td> <td>    0.066</td> <td>   11.072</td> <td> 0.000</td> <td>    0.598</td> <td>    0.864</td>\n",
              "</tr>\n",
              "<tr>\n",
              "  <th>x5</th> <td>    0.0776</td> <td>    0.023</td> <td>    3.397</td> <td> 0.001</td> <td>    0.032</td> <td>    0.124</td>\n",
              "</tr>\n",
              "</table>\n",
              "<table class=\"simpletable\">\n",
              "<tr>\n",
              "  <th>Omnibus:</th>       <td> 0.012</td> <th>  Durbin-Watson:     </th> <td>   1.533</td>\n",
              "</tr>\n",
              "<tr>\n",
              "  <th>Prob(Omnibus):</th> <td> 0.994</td> <th>  Jarque-Bera (JB):  </th> <td>   0.071</td>\n",
              "</tr>\n",
              "<tr>\n",
              "  <th>Skew:</th>          <td>-0.015</td> <th>  Prob(JB):          </th> <td>   0.965</td>\n",
              "</tr>\n",
              "<tr>\n",
              "  <th>Kurtosis:</th>      <td> 2.817</td> <th>  Cond. No.          </th> <td>8.14e+05</td>\n",
              "</tr>\n",
              "</table><br/><br/>Notes:<br/>[1] R² is computed without centering (uncentered) since the model does not contain a constant.<br/>[2] Standard Errors assume that the covariance matrix of the errors is correctly specified.<br/>[3] The condition number is large, 8.14e+05. This might indicate that there are<br/>strong multicollinearity or other numerical problems."
            ],
            "text/latex": "\\begin{center}\n\\begin{tabular}{lclc}\n\\toprule\n\\textbf{Dep. Variable:}    &        y         & \\textbf{  R-squared (uncentered):}      &     0.988   \\\\\n\\textbf{Model:}            &       OLS        & \\textbf{  Adj. R-squared (uncentered):} &     0.987   \\\\\n\\textbf{Method:}           &  Least Squares   & \\textbf{  F-statistic:       }          &     735.7   \\\\\n\\textbf{Date:}             & Fri, 29 Mar 2024 & \\textbf{  Prob (F-statistic):}          &  6.07e-42   \\\\\n\\textbf{Time:}             &     14:14:50     & \\textbf{  Log-Likelihood:    }          &   -544.86   \\\\\n\\textbf{No. Observations:} &          50      & \\textbf{  AIC:               }          &     1100.   \\\\\n\\textbf{Df Residuals:}     &          45      & \\textbf{  BIC:               }          &     1109.   \\\\\n\\textbf{Df Model:}         &           5      & \\textbf{                     }          &             \\\\\n\\textbf{Covariance Type:}  &    nonrobust     & \\textbf{                     }          &             \\\\\n\\bottomrule\n\\end{tabular}\n\\begin{tabular}{lcccccc}\n            & \\textbf{coef} & \\textbf{std err} & \\textbf{t} & \\textbf{P$> |$t$|$} & \\textbf{[0.025} & \\textbf{0.975]}  \\\\\n\\midrule\n\\textbf{x1} &    3814.3461  &     4819.854     &     0.791  &         0.433        &    -5893.338    &     1.35e+04     \\\\\n\\textbf{x2} &    6019.9282  &     4596.090     &     1.310  &         0.197        &    -3237.072    &     1.53e+04     \\\\\n\\textbf{x3} &       0.3021  &        0.037     &     8.174  &         0.000        &        0.228    &        0.377     \\\\\n\\textbf{x4} &       0.7308  &        0.066     &    11.072  &         0.000        &        0.598    &        0.864     \\\\\n\\textbf{x5} &       0.0776  &        0.023     &     3.397  &         0.001        &        0.032    &        0.124     \\\\\n\\bottomrule\n\\end{tabular}\n\\begin{tabular}{lclc}\n\\textbf{Omnibus:}       &  0.012 & \\textbf{  Durbin-Watson:     } &    1.533  \\\\\n\\textbf{Prob(Omnibus):} &  0.994 & \\textbf{  Jarque-Bera (JB):  } &    0.071  \\\\\n\\textbf{Skew:}          & -0.015 & \\textbf{  Prob(JB):          } &    0.965  \\\\\n\\textbf{Kurtosis:}      &  2.817 & \\textbf{  Cond. No.          } & 8.14e+05  \\\\\n\\bottomrule\n\\end{tabular}\n%\\caption{OLS Regression Results}\n\\end{center}\n\nNotes: \\newline\n [1] R² is computed without centering (uncentered) since the model does not contain a constant. \\newline\n [2] Standard Errors assume that the covariance matrix of the errors is correctly specified. \\newline\n [3] The condition number is large, 8.14e+05. This might indicate that there are \\newline\n strong multicollinearity or other numerical problems."
          },
          "metadata": {},
          "execution_count": 24
        }
      ]
    },
    {
      "cell_type": "code",
      "source": [
        "# Verificando agora apenas com as colunas \"Pesquisa,ropaganda e Estado\n",
        "\n",
        "# Criando minha variavel com minhas colunas\n",
        "X_opt = X[:,[2,3,4]]\n"
      ],
      "metadata": {
        "id": "dMo-pX0zhpso"
      },
      "execution_count": 25,
      "outputs": []
    },
    {
      "cell_type": "code",
      "source": [
        "# Criando meu Regressor e fazendo meu treinamento\n",
        "regressor_OLS = sm.OLS(y, X_opt).fit()"
      ],
      "metadata": {
        "id": "0ZBIJt4ehpun"
      },
      "execution_count": 26,
      "outputs": []
    },
    {
      "cell_type": "code",
      "source": [
        "# Verificando minhas estatistica\n",
        "regressor_OLS.summary()"
      ],
      "metadata": {
        "colab": {
          "base_uri": "https://localhost:8080/",
          "height": 490
        },
        "id": "nHc6djUrhpw6",
        "outputId": "4bdc18dc-069b-4fb4-d907-b3c316e6fab7"
      },
      "execution_count": 27,
      "outputs": [
        {
          "output_type": "execute_result",
          "data": {
            "text/plain": [
              "<class 'statsmodels.iolib.summary.Summary'>\n",
              "\"\"\"\n",
              "                                 OLS Regression Results                                \n",
              "=======================================================================================\n",
              "Dep. Variable:                      y   R-squared (uncentered):                   0.987\n",
              "Model:                            OLS   Adj. R-squared (uncentered):              0.987\n",
              "Method:                 Least Squares   F-statistic:                              1232.\n",
              "Date:                Fri, 29 Mar 2024   Prob (F-statistic):                    1.17e-44\n",
              "Time:                        14:15:39   Log-Likelihood:                         -545.82\n",
              "No. Observations:                  50   AIC:                                      1098.\n",
              "Df Residuals:                      47   BIC:                                      1103.\n",
              "Df Model:                           3                                                  \n",
              "Covariance Type:            nonrobust                                                  \n",
              "==============================================================================\n",
              "                 coef    std err          t      P>|t|      [0.025      0.975]\n",
              "------------------------------------------------------------------------------\n",
              "x1             0.3277      0.031     10.458      0.000       0.265       0.391\n",
              "x2             0.7180      0.065     11.047      0.000       0.587       0.849\n",
              "x3             0.0822      0.022      3.733      0.001       0.038       0.126\n",
              "==============================================================================\n",
              "Omnibus:                        0.665   Durbin-Watson:                   1.361\n",
              "Prob(Omnibus):                  0.717   Jarque-Bera (JB):                0.749\n",
              "Skew:                          -0.126   Prob(JB):                        0.688\n",
              "Kurtosis:                       2.456   Cond. No.                         9.76\n",
              "==============================================================================\n",
              "\n",
              "Notes:\n",
              "[1] R² is computed without centering (uncentered) since the model does not contain a constant.\n",
              "[2] Standard Errors assume that the covariance matrix of the errors is correctly specified.\n",
              "\"\"\""
            ],
            "text/html": [
              "<table class=\"simpletable\">\n",
              "<caption>OLS Regression Results</caption>\n",
              "<tr>\n",
              "  <th>Dep. Variable:</th>            <td>y</td>        <th>  R-squared (uncentered):</th>      <td>   0.987</td>\n",
              "</tr>\n",
              "<tr>\n",
              "  <th>Model:</th>                   <td>OLS</td>       <th>  Adj. R-squared (uncentered):</th> <td>   0.987</td>\n",
              "</tr>\n",
              "<tr>\n",
              "  <th>Method:</th>             <td>Least Squares</td>  <th>  F-statistic:       </th>          <td>   1232.</td>\n",
              "</tr>\n",
              "<tr>\n",
              "  <th>Date:</th>             <td>Fri, 29 Mar 2024</td> <th>  Prob (F-statistic):</th>          <td>1.17e-44</td>\n",
              "</tr>\n",
              "<tr>\n",
              "  <th>Time:</th>                 <td>14:15:39</td>     <th>  Log-Likelihood:    </th>          <td> -545.82</td>\n",
              "</tr>\n",
              "<tr>\n",
              "  <th>No. Observations:</th>      <td>    50</td>      <th>  AIC:               </th>          <td>   1098.</td>\n",
              "</tr>\n",
              "<tr>\n",
              "  <th>Df Residuals:</th>          <td>    47</td>      <th>  BIC:               </th>          <td>   1103.</td>\n",
              "</tr>\n",
              "<tr>\n",
              "  <th>Df Model:</th>              <td>     3</td>      <th>                     </th>              <td> </td>   \n",
              "</tr>\n",
              "<tr>\n",
              "  <th>Covariance Type:</th>      <td>nonrobust</td>    <th>                     </th>              <td> </td>   \n",
              "</tr>\n",
              "</table>\n",
              "<table class=\"simpletable\">\n",
              "<tr>\n",
              "   <td></td>     <th>coef</th>     <th>std err</th>      <th>t</th>      <th>P>|t|</th>  <th>[0.025</th>    <th>0.975]</th>  \n",
              "</tr>\n",
              "<tr>\n",
              "  <th>x1</th> <td>    0.3277</td> <td>    0.031</td> <td>   10.458</td> <td> 0.000</td> <td>    0.265</td> <td>    0.391</td>\n",
              "</tr>\n",
              "<tr>\n",
              "  <th>x2</th> <td>    0.7180</td> <td>    0.065</td> <td>   11.047</td> <td> 0.000</td> <td>    0.587</td> <td>    0.849</td>\n",
              "</tr>\n",
              "<tr>\n",
              "  <th>x3</th> <td>    0.0822</td> <td>    0.022</td> <td>    3.733</td> <td> 0.001</td> <td>    0.038</td> <td>    0.126</td>\n",
              "</tr>\n",
              "</table>\n",
              "<table class=\"simpletable\">\n",
              "<tr>\n",
              "  <th>Omnibus:</th>       <td> 0.665</td> <th>  Durbin-Watson:     </th> <td>   1.361</td>\n",
              "</tr>\n",
              "<tr>\n",
              "  <th>Prob(Omnibus):</th> <td> 0.717</td> <th>  Jarque-Bera (JB):  </th> <td>   0.749</td>\n",
              "</tr>\n",
              "<tr>\n",
              "  <th>Skew:</th>          <td>-0.126</td> <th>  Prob(JB):          </th> <td>   0.688</td>\n",
              "</tr>\n",
              "<tr>\n",
              "  <th>Kurtosis:</th>      <td> 2.456</td> <th>  Cond. No.          </th> <td>    9.76</td>\n",
              "</tr>\n",
              "</table><br/><br/>Notes:<br/>[1] R² is computed without centering (uncentered) since the model does not contain a constant.<br/>[2] Standard Errors assume that the covariance matrix of the errors is correctly specified."
            ],
            "text/latex": "\\begin{center}\n\\begin{tabular}{lclc}\n\\toprule\n\\textbf{Dep. Variable:}    &        y         & \\textbf{  R-squared (uncentered):}      &     0.987   \\\\\n\\textbf{Model:}            &       OLS        & \\textbf{  Adj. R-squared (uncentered):} &     0.987   \\\\\n\\textbf{Method:}           &  Least Squares   & \\textbf{  F-statistic:       }          &     1232.   \\\\\n\\textbf{Date:}             & Fri, 29 Mar 2024 & \\textbf{  Prob (F-statistic):}          &  1.17e-44   \\\\\n\\textbf{Time:}             &     14:15:39     & \\textbf{  Log-Likelihood:    }          &   -545.82   \\\\\n\\textbf{No. Observations:} &          50      & \\textbf{  AIC:               }          &     1098.   \\\\\n\\textbf{Df Residuals:}     &          47      & \\textbf{  BIC:               }          &     1103.   \\\\\n\\textbf{Df Model:}         &           3      & \\textbf{                     }          &             \\\\\n\\textbf{Covariance Type:}  &    nonrobust     & \\textbf{                     }          &             \\\\\n\\bottomrule\n\\end{tabular}\n\\begin{tabular}{lcccccc}\n            & \\textbf{coef} & \\textbf{std err} & \\textbf{t} & \\textbf{P$> |$t$|$} & \\textbf{[0.025} & \\textbf{0.975]}  \\\\\n\\midrule\n\\textbf{x1} &       0.3277  &        0.031     &    10.458  &         0.000        &        0.265    &        0.391     \\\\\n\\textbf{x2} &       0.7180  &        0.065     &    11.047  &         0.000        &        0.587    &        0.849     \\\\\n\\textbf{x3} &       0.0822  &        0.022     &     3.733  &         0.001        &        0.038    &        0.126     \\\\\n\\bottomrule\n\\end{tabular}\n\\begin{tabular}{lclc}\n\\textbf{Omnibus:}       &  0.665 & \\textbf{  Durbin-Watson:     } &    1.361  \\\\\n\\textbf{Prob(Omnibus):} &  0.717 & \\textbf{  Jarque-Bera (JB):  } &    0.749  \\\\\n\\textbf{Skew:}          & -0.126 & \\textbf{  Prob(JB):          } &    0.688  \\\\\n\\textbf{Kurtosis:}      &  2.456 & \\textbf{  Cond. No.          } &     9.76  \\\\\n\\bottomrule\n\\end{tabular}\n%\\caption{OLS Regression Results}\n\\end{center}\n\nNotes: \\newline\n [1] R² is computed without centering (uncentered) since the model does not contain a constant. \\newline\n [2] Standard Errors assume that the covariance matrix of the errors is correctly specified."
          },
          "metadata": {},
          "execution_count": 27
        }
      ]
    },
    {
      "cell_type": "code",
      "source": [
        "# Verificando agora apenas com as colunas \"Pesquisa e Propaganda\"\n",
        "\n",
        "# Criando minha variavel com minhas colunas\n",
        "X_opt = X[:,[2,3]]"
      ],
      "metadata": {
        "id": "1a7o0QiekNok"
      },
      "execution_count": 28,
      "outputs": []
    },
    {
      "cell_type": "code",
      "source": [
        "# Criando meu Regressor e fazendo meu treinamento\n",
        "regressor_OLS = sm.OLS(y, X_opt).fit()"
      ],
      "metadata": {
        "id": "M1g0nMXSkNkk"
      },
      "execution_count": 29,
      "outputs": []
    },
    {
      "cell_type": "code",
      "source": [
        "# Verificando minhas estatistica\n",
        "regressor_OLS.summary()"
      ],
      "metadata": {
        "colab": {
          "base_uri": "https://localhost:8080/",
          "height": 469
        },
        "id": "MAAfrZ4wkNgk",
        "outputId": "98d92e70-91e5-49bb-9302-5582d426dc14"
      },
      "execution_count": 30,
      "outputs": [
        {
          "output_type": "execute_result",
          "data": {
            "text/plain": [
              "<class 'statsmodels.iolib.summary.Summary'>\n",
              "\"\"\"\n",
              "                                 OLS Regression Results                                \n",
              "=======================================================================================\n",
              "Dep. Variable:                      y   R-squared (uncentered):                   0.984\n",
              "Model:                            OLS   Adj. R-squared (uncentered):              0.983\n",
              "Method:                 Least Squares   F-statistic:                              1450.\n",
              "Date:                Fri, 29 Mar 2024   Prob (F-statistic):                    1.20e-43\n",
              "Time:                        14:16:06   Log-Likelihood:                         -552.31\n",
              "No. Observations:                  50   AIC:                                      1109.\n",
              "Df Residuals:                      48   BIC:                                      1112.\n",
              "Df Model:                           2                                                  \n",
              "Covariance Type:            nonrobust                                                  \n",
              "==============================================================================\n",
              "                 coef    std err          t      P>|t|      [0.025      0.975]\n",
              "------------------------------------------------------------------------------\n",
              "x1             0.3558      0.034     10.381      0.000       0.287       0.425\n",
              "x2             0.8974      0.049     18.219      0.000       0.798       0.996\n",
              "==============================================================================\n",
              "Omnibus:                        0.094   Durbin-Watson:                   1.153\n",
              "Prob(Omnibus):                  0.954   Jarque-Bera (JB):                0.287\n",
              "Skew:                           0.052   Prob(JB):                        0.866\n",
              "Kurtosis:                       2.643   Cond. No.                         3.90\n",
              "==============================================================================\n",
              "\n",
              "Notes:\n",
              "[1] R² is computed without centering (uncentered) since the model does not contain a constant.\n",
              "[2] Standard Errors assume that the covariance matrix of the errors is correctly specified.\n",
              "\"\"\""
            ],
            "text/html": [
              "<table class=\"simpletable\">\n",
              "<caption>OLS Regression Results</caption>\n",
              "<tr>\n",
              "  <th>Dep. Variable:</th>            <td>y</td>        <th>  R-squared (uncentered):</th>      <td>   0.984</td>\n",
              "</tr>\n",
              "<tr>\n",
              "  <th>Model:</th>                   <td>OLS</td>       <th>  Adj. R-squared (uncentered):</th> <td>   0.983</td>\n",
              "</tr>\n",
              "<tr>\n",
              "  <th>Method:</th>             <td>Least Squares</td>  <th>  F-statistic:       </th>          <td>   1450.</td>\n",
              "</tr>\n",
              "<tr>\n",
              "  <th>Date:</th>             <td>Fri, 29 Mar 2024</td> <th>  Prob (F-statistic):</th>          <td>1.20e-43</td>\n",
              "</tr>\n",
              "<tr>\n",
              "  <th>Time:</th>                 <td>14:16:06</td>     <th>  Log-Likelihood:    </th>          <td> -552.31</td>\n",
              "</tr>\n",
              "<tr>\n",
              "  <th>No. Observations:</th>      <td>    50</td>      <th>  AIC:               </th>          <td>   1109.</td>\n",
              "</tr>\n",
              "<tr>\n",
              "  <th>Df Residuals:</th>          <td>    48</td>      <th>  BIC:               </th>          <td>   1112.</td>\n",
              "</tr>\n",
              "<tr>\n",
              "  <th>Df Model:</th>              <td>     2</td>      <th>                     </th>              <td> </td>   \n",
              "</tr>\n",
              "<tr>\n",
              "  <th>Covariance Type:</th>      <td>nonrobust</td>    <th>                     </th>              <td> </td>   \n",
              "</tr>\n",
              "</table>\n",
              "<table class=\"simpletable\">\n",
              "<tr>\n",
              "   <td></td>     <th>coef</th>     <th>std err</th>      <th>t</th>      <th>P>|t|</th>  <th>[0.025</th>    <th>0.975]</th>  \n",
              "</tr>\n",
              "<tr>\n",
              "  <th>x1</th> <td>    0.3558</td> <td>    0.034</td> <td>   10.381</td> <td> 0.000</td> <td>    0.287</td> <td>    0.425</td>\n",
              "</tr>\n",
              "<tr>\n",
              "  <th>x2</th> <td>    0.8974</td> <td>    0.049</td> <td>   18.219</td> <td> 0.000</td> <td>    0.798</td> <td>    0.996</td>\n",
              "</tr>\n",
              "</table>\n",
              "<table class=\"simpletable\">\n",
              "<tr>\n",
              "  <th>Omnibus:</th>       <td> 0.094</td> <th>  Durbin-Watson:     </th> <td>   1.153</td>\n",
              "</tr>\n",
              "<tr>\n",
              "  <th>Prob(Omnibus):</th> <td> 0.954</td> <th>  Jarque-Bera (JB):  </th> <td>   0.287</td>\n",
              "</tr>\n",
              "<tr>\n",
              "  <th>Skew:</th>          <td> 0.052</td> <th>  Prob(JB):          </th> <td>   0.866</td>\n",
              "</tr>\n",
              "<tr>\n",
              "  <th>Kurtosis:</th>      <td> 2.643</td> <th>  Cond. No.          </th> <td>    3.90</td>\n",
              "</tr>\n",
              "</table><br/><br/>Notes:<br/>[1] R² is computed without centering (uncentered) since the model does not contain a constant.<br/>[2] Standard Errors assume that the covariance matrix of the errors is correctly specified."
            ],
            "text/latex": "\\begin{center}\n\\begin{tabular}{lclc}\n\\toprule\n\\textbf{Dep. Variable:}    &        y         & \\textbf{  R-squared (uncentered):}      &     0.984   \\\\\n\\textbf{Model:}            &       OLS        & \\textbf{  Adj. R-squared (uncentered):} &     0.983   \\\\\n\\textbf{Method:}           &  Least Squares   & \\textbf{  F-statistic:       }          &     1450.   \\\\\n\\textbf{Date:}             & Fri, 29 Mar 2024 & \\textbf{  Prob (F-statistic):}          &  1.20e-43   \\\\\n\\textbf{Time:}             &     14:16:06     & \\textbf{  Log-Likelihood:    }          &   -552.31   \\\\\n\\textbf{No. Observations:} &          50      & \\textbf{  AIC:               }          &     1109.   \\\\\n\\textbf{Df Residuals:}     &          48      & \\textbf{  BIC:               }          &     1112.   \\\\\n\\textbf{Df Model:}         &           2      & \\textbf{                     }          &             \\\\\n\\textbf{Covariance Type:}  &    nonrobust     & \\textbf{                     }          &             \\\\\n\\bottomrule\n\\end{tabular}\n\\begin{tabular}{lcccccc}\n            & \\textbf{coef} & \\textbf{std err} & \\textbf{t} & \\textbf{P$> |$t$|$} & \\textbf{[0.025} & \\textbf{0.975]}  \\\\\n\\midrule\n\\textbf{x1} &       0.3558  &        0.034     &    10.381  &         0.000        &        0.287    &        0.425     \\\\\n\\textbf{x2} &       0.8974  &        0.049     &    18.219  &         0.000        &        0.798    &        0.996     \\\\\n\\bottomrule\n\\end{tabular}\n\\begin{tabular}{lclc}\n\\textbf{Omnibus:}       &  0.094 & \\textbf{  Durbin-Watson:     } &    1.153  \\\\\n\\textbf{Prob(Omnibus):} &  0.954 & \\textbf{  Jarque-Bera (JB):  } &    0.287  \\\\\n\\textbf{Skew:}          &  0.052 & \\textbf{  Prob(JB):          } &    0.866  \\\\\n\\textbf{Kurtosis:}      &  2.643 & \\textbf{  Cond. No.          } &     3.90  \\\\\n\\bottomrule\n\\end{tabular}\n%\\caption{OLS Regression Results}\n\\end{center}\n\nNotes: \\newline\n [1] R² is computed without centering (uncentered) since the model does not contain a constant. \\newline\n [2] Standard Errors assume that the covariance matrix of the errors is correctly specified."
          },
          "metadata": {},
          "execution_count": 30
        }
      ]
    },
    {
      "cell_type": "code",
      "source": [
        "# Verificando meus Pvalores\n",
        "regressor_OLS.pvalues"
      ],
      "metadata": {
        "colab": {
          "base_uri": "https://localhost:8080/"
        },
        "id": "AZxlEckNkNeF",
        "outputId": "4e69cedb-3858-474d-f127-9c286a63aad1"
      },
      "execution_count": 31,
      "outputs": [
        {
          "output_type": "execute_result",
          "data": {
            "text/plain": [
              "array([7.33006903e-14, 3.33897094e-23])"
            ]
          },
          "metadata": {},
          "execution_count": 31
        }
      ]
    },
    {
      "cell_type": "markdown",
      "source": [
        "# Esses resultados mostram que a coluna \"Pesquisa\", tem mais impacto como nossa coluna Lucro sendo ela mais impactante para os resultados\n",
        "\n",
        "# array([7.33006903e-14, 3.33897094e-23])\n",
        "\n"
      ],
      "metadata": {
        "id": "hFJR-ZoMny64"
      }
    }
  ]
}